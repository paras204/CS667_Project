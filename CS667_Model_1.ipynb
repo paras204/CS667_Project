{
 "cells": [
  {
   "cell_type": "code",
   "execution_count": null,
   "metadata": {
    "vscode": {
     "languageId": "plaintext"
    }
   },
   "outputs": [],
   "source": [
    "import tensorflow as tf\n",
    "from tensorflow.keras.models import Sequential\n",
    "from tensorflow.keras.layers import Dense\n",
    "\n",
    "# Load the data again for Neural Network training\n",
    "data = pd.read_excel('data.xlsx')\n",
    "X = data[['spo2', 'heart_rate', 'motion', 'temperature', 'humidity']]\n",
    "y = data['stress_level']\n",
    "\n",
    "# Approximate Random Forest with a simple Neural Network\n",
    "nn_model = Sequential([\n",
    "    Dense(32, input_shape=(5,), activation='relu'),\n",
    "    Dense(16, activation='relu'),\n",
    "    Dense(5, activation='softmax')  # for stress levels from 0 to 4\n",
    "])\n",
    "\n",
    "nn_model.compile(optimizer='adam', loss='sparse_categorical_crossentropy', metrics=['accuracy'])\n",
    "nn_model.fit(X, y, epochs=10, batch_size=16)\n",
    "\n",
    "# Convert the model to TFLite\n",
    "converter = tf.lite.TFLiteConverter.from_keras_model(nn_model)\n",
    "tflite_model = converter.convert()\n",
    "\n",
    "# Save the TFLite model\n",
    "with open('stress_model.tflite', 'wb') as f:\n",
    "    f.write(tflite_model)\n"
   ]
  },
  {
   "cell_type": "code",
   "execution_count": null,
   "metadata": {
    "vscode": {
     "languageId": "plaintext"
    }
   },
   "outputs": [],
   "source": []
  }
 ],
 "metadata": {
  "language_info": {
   "name": "python"
  }
 },
 "nbformat": 4,
 "nbformat_minor": 2
}

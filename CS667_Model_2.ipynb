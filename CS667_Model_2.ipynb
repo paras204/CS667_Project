{
 "cells": [
  {
   "cell_type": "code",
   "execution_count": 1,
   "metadata": {
    "colab": {
     "base_uri": "https://localhost:8080/"
    },
    "id": "GcRJNZzV_pTn",
    "outputId": "42d6d8b8-06d8-4760-8404-b905d83e4ef7"
   },
   "outputs": [
    {
     "name": "stdout",
     "output_type": "stream",
     "text": [
      "Collecting micromlgen\n",
      "  Downloading micromlgen-1.1.28.tar.gz (12 kB)\n",
      "  Preparing metadata (setup.py) ... \u001b[?25l\u001b[?25hdone\n",
      "Requirement already satisfied: jinja2 in /usr/local/lib/python3.10/dist-packages (from micromlgen) (3.1.4)\n",
      "Requirement already satisfied: MarkupSafe>=2.0 in /usr/local/lib/python3.10/dist-packages (from jinja2->micromlgen) (3.0.2)\n",
      "Building wheels for collected packages: micromlgen\n",
      "  Building wheel for micromlgen (setup.py) ... \u001b[?25l\u001b[?25hdone\n",
      "  Created wheel for micromlgen: filename=micromlgen-1.1.28-py3-none-any.whl size=32153 sha256=601ec53cc6848ddd5fc673c8f1abfd1e483f6487efea78c6e8643d34669330c8\n",
      "  Stored in directory: /root/.cache/pip/wheels/97/54/64/5d82c310920abe1be0d120313ceb9e12c88f5701f53f6ed248\n",
      "Successfully built micromlgen\n",
      "Installing collected packages: micromlgen\n",
      "Successfully installed micromlgen-1.1.28\n"
     ]
    }
   ],
   "source": [
    "!pip install micromlgen"
   ]
  },
  {
   "cell_type": "code",
   "execution_count": null,
   "metadata": {
    "colab": {
     "base_uri": "https://localhost:8080/"
    },
    "id": "gaGryFeo7N2T",
    "outputId": "f7514f30-8bda-4dd2-e4a5-2079f2b8a22c"
   },
   "outputs": [
    {
     "name": "stdout",
     "output_type": "stream",
     "text": [
      "Model Accuracy: 99.21%\n"
     ]
    }
   ],
   "source": [
    "import pandas as pd\n",
    "from sklearn.model_selection import train_test_split\n",
    "from sklearn.ensemble import RandomForestClassifier\n",
    "from sklearn.metrics import accuracy_score\n",
    "import joblib\n",
    "from micromlgen import port\n",
    "\n",
    "data = pd.read_excel('data.xlsx')\n",
    "\n",
    "X = data[['blood_oxygen', 'limb_movement', 'temp', 'heart_rate']]\n",
    "y = data['sl']\n",
    "\n",
    "X_train, X_test, y_train, y_test = train_test_split(X, y, test_size=0.2, random_state=0)\n",
    "\n",
    "model = RandomForestClassifier(n_estimators=100, random_state=0)\n",
    "model.fit(X_train, y_train)\n",
    "\n",
    "y_pred = model.predict(X_test)\n",
    "accuracy = accuracy_score(y_test, y_pred)\n",
    "print(f'Model Accuracy: {accuracy * 100:.2f}%')\n",
    "\n",
    "joblib.dump(model, 'random_forest_model.pkl')\n",
    "\n",
    "with open('random_forest_model.c', 'w') as f:\n",
    "    f.write(port(model))\n",
    "print(port(model))"
   ]
  },
  {
   "cell_type": "code",
   "execution_count": 4,
   "metadata": {
    "colab": {
     "base_uri": "https://localhost:8080/"
    },
    "id": "r79czCNUA768",
    "outputId": "e773786b-768d-47f8-c4a9-5779be2fa6af"
   },
   "outputs": [
    {
     "name": "stdout",
     "output_type": "stream",
     "text": [
      "     blood_oxygen  limb_movement    temp  heart_rate\n",
      "391        94.376          9.584  95.584       58.96\n",
      "439        92.864          8.576  94.576       56.44\n",
      "311        91.104         11.104  93.104       62.76\n",
      "249        88.528         13.320  90.528       67.64\n",
      "481        95.784          5.568  97.176       51.96\n",
      "..            ...            ...     ...         ...\n",
      "92         90.800         10.800  92.800       62.00\n",
      "172        91.120         11.120  93.120       62.80\n",
      "577        91.984         11.984  93.984       64.96\n",
      "230        89.520         15.800  91.520       72.60\n",
      "369        89.632         16.080  91.632       73.16\n",
      "\n",
      "[126 rows x 4 columns]\n",
      "391    1\n",
      "439    1\n",
      "311    2\n",
      "249    3\n",
      "481    0\n",
      "      ..\n",
      "92     2\n",
      "172    2\n",
      "577    2\n",
      "230    3\n",
      "369    3\n",
      "Name: sl, Length: 126, dtype: int64\n"
     ]
    }
   ],
   "source": [
    "print(X_test)\n",
    "print(y_test)"
   ]
  },
  {
   "cell_type": "code",
   "execution_count": null,
   "metadata": {
    "id": "ekIXSnwp-ERN"
   },
   "outputs": [],
   "source": []
  }
 ],
 "metadata": {
  "colab": {
   "provenance": []
  },
  "kernelspec": {
   "display_name": "Python 3",
   "name": "python3"
  },
  "language_info": {
   "name": "python"
  }
 },
 "nbformat": 4,
 "nbformat_minor": 0
}
